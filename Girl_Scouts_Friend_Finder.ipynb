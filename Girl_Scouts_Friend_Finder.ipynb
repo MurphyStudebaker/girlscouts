{
  "cells": [
    {
      "cell_type": "markdown",
      "id": "b24355bf",
      "metadata": {
        "id": "b24355bf"
      },
      "source": [
        "# Friend Finder\n",
        "This notebook is designed for the Girl Scouts STEM Data Science Workshop to introduce 6th-12th graders to feature selection, cosine similarity, and data science in general.\n",
        "\n",
        "### Instructors\n",
        "- Jason Osajima\n",
        "- Murphy Studebaker\n",
        "\n",
        "(idk if we want to say anything about us here)\n",
        "\n",
        "## Introduction\n",
        "The following notebook will walk you through the process of creating your first data science model that we will use to find new friends based on their similarity to you and your interests, using data science techniques that are commonly used for recommendations in apps like Netflix and Spotify. You will not have to write any of your own code. Just run each code cell by hitting the play button in the top left corner.\n",
        "\n",
        "### Software Tools\n",
        "- **Python** is a programming language known for being easy to learn and good at many different programming tasks, especially data science. The code examples in this notebook are all written in Python. **Pandas** is a library we use with Python to easily work with data.\n",
        "- **CoLab** is Google's online editor for writing coding notebooks like the one you're currently using. You can save this notebook to your own account, so you can make edits or take notes and save your changes. Eventually you can make a new notebook with your own data science models!"
      ]
    },
    {
      "cell_type": "code",
      "execution_count": 1,
      "id": "e94ba269",
      "metadata": {
        "id": "e94ba269"
      },
      "outputs": [],
      "source": [
        "# this cell imports the required libraries for our workshop code to run\n",
        "import pandas as pd"
      ]
    },
    {
      "cell_type": "markdown",
      "id": "f1d6b34d",
      "metadata": {
        "id": "f1d6b34d"
      },
      "source": [
        "## Features\n",
        "\n",
        "A **feature** is a measurable way to describe something or someone in your dataset. When working on a data science project, deciding what features are important to the model you are trying to build is a good first step. In many cases, choosing good features can be the difference between a good and a bad model!\n",
        "\n",
        "Most features fall into one of the following categories:\n",
        "\n",
        "#### **Numerical Features**\n",
        "These are things that are represented naturally as numbers. With numerical features, you can compare two different records in your data set by seeing if these numerical features are less than, greater than, or equal to each other.  Some examples are things like:\n",
        "- the number of times you've seen Taylor Swift live in concert\n",
        "- how many states you have visited\n",
        "- how many pets you own\n",
        "- how many siblings you have\n",
        "\n",
        "#### **Bin Features**\n",
        "Bin features are similar to numerical features, but they allow you to specify a certain range (or \"bin\") of values to group numerical values together. This is often used for things like:\n",
        "- age range (1-12, 13-18, 18-24, 25+)\n",
        "- your astrological sign (bins of birth date ranges)\n",
        "\n",
        "#### **One-Hot Encoded Features**\n",
        "Categorical features are features that are not naturally represented numerically and usually represent some sort of category or description. Some examples are:\n",
        "- your favorite color (\"Blue\",\"Purple\",\"Orange\")\n",
        "- your favorite sport (\"Soccer\",\"Football\",\"Hockey\")\n",
        "\n",
        "It's much easier for a model to compare the meaning of two numbers than to compare the meaning of two words. We use a technique called one-hot encoding to transform descriptive features into numerical features, so we can perform mathematic calculations using the features later on. With one-hot encoding, we represent each potential option as its own column and then represent the selection of that category with a 1 or a 0. After encoding, we would have the following features:\n",
        "- color_green, color_purple, color_orange\n",
        "- sport_soccer, sport_football, sport_hockey\n"
      ]
    },
    {
      "cell_type": "code",
      "execution_count": null,
      "id": "32c1052a",
      "metadata": {
        "id": "32c1052a"
      },
      "outputs": [],
      "source": [
        "# feature example\n",
        "# TODO: add example dataframe for something like dogs with examples of all of the following features"
      ]
    },
    {
      "cell_type": "markdown",
      "source": [
        "## ✍️ Your Turn\n",
        "What kinds of features can you use to describe yourself? What features might be important when considering who your new friends might be? Make a list of potential friendship features and how to represent them numerically.\n",
        "\n",
        "Then, as a group, we will combine everyone's features toether to make a consistent dataset of everyone in the workshop."
      ],
      "metadata": {
        "id": "EBwIELBUkAOm"
      },
      "id": "EBwIELBUkAOm"
    },
    {
      "cell_type": "markdown",
      "id": "084bea1e",
      "metadata": {
        "id": "084bea1e"
      },
      "source": [
        "## Building a Vector"
      ]
    },
    {
      "cell_type": "code",
      "execution_count": null,
      "id": "92cebc5c",
      "metadata": {
        "id": "92cebc5c"
      },
      "outputs": [],
      "source": [
        "# vector example"
      ]
    },
    {
      "cell_type": "markdown",
      "id": "4422675b",
      "metadata": {
        "id": "4422675b"
      },
      "source": [
        "## Measuring Similarity"
      ]
    },
    {
      "cell_type": "code",
      "execution_count": null,
      "id": "193b36c2",
      "metadata": {
        "id": "193b36c2"
      },
      "outputs": [],
      "source": [
        "# cosine similarity code"
      ]
    },
    {
      "cell_type": "markdown",
      "id": "ca70daa2",
      "metadata": {
        "id": "ca70daa2"
      },
      "source": [
        "## Results"
      ]
    },
    {
      "cell_type": "code",
      "execution_count": null,
      "id": "a94c5eed",
      "metadata": {
        "id": "a94c5eed"
      },
      "outputs": [],
      "source": [
        "# ranking / sorting / formatting friends code"
      ]
    }
  ],
  "metadata": {
    "kernelspec": {
      "display_name": "Python 3 (ipykernel)",
      "language": "python",
      "name": "python3"
    },
    "language_info": {
      "codemirror_mode": {
        "name": "ipython",
        "version": 3
      },
      "file_extension": ".py",
      "mimetype": "text/x-python",
      "name": "python",
      "nbconvert_exporter": "python",
      "pygments_lexer": "ipython3",
      "version": "3.7.16"
    },
    "colab": {
      "provenance": []
    }
  },
  "nbformat": 4,
  "nbformat_minor": 5
}