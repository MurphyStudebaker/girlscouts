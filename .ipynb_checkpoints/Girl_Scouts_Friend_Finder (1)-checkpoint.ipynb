{
 "cells": [
  {
   "cell_type": "markdown",
   "id": "b24355bf",
   "metadata": {
    "id": "b24355bf"
   },
   "source": [
    "# 🔎 Friend Finder\n",
    "This notebook is designed for the Girl Scouts STEM Data Science Workshop to introduce 6th-12th graders to feature selection, cosine similarity, and data science in general.\n",
    "\n",
    "### Instructors\n",
    "- Jason Osajima\n",
    "- Murphy Studebaker\n",
    "\n",
    "(idk if we want to say anything about us here)\n",
    "\n",
    "## Introduction\n",
    "The following notebook will walk you through the process of creating your first data science model that we will use to find new friends based on their similarity to you and your interests, using data science techniques that are commonly used for recommendations in apps like Netflix and Spotify. \n",
    "\n",
    "You will not have to write any of your own code. You can run each code cell by hitting the play button in the left corner or by hitting the keys `Shift + Return`.\n",
    "\n",
    "### Software Tools\n",
    "- **Python** is a programming language known for being easy to learn and good at many different programming tasks, especially data science. The code examples in this notebook are all written in Python. **Pandas** is a library we use with Python to easily work with data.\n",
    "- **CoLab** is Google's online editor for writing coding notebooks like the one you're currently using. You can save this notebook to your own account, so you can make edits or take notes and save your changes. Eventually you can make a new notebook with your own data science models!\n",
    "\n",
    "\n",
    "## ✍️ Your Turn\n",
    "\n",
    "Run the following code block to set up your notebook with everything we need for the workshop. You should see \"SUCCESS\" printed out."
   ]
  },
  {
   "cell_type": "code",
   "execution_count": 4,
   "id": "e94ba269",
   "metadata": {
    "id": "e94ba269"
   },
   "outputs": [
    {
     "name": "stdout",
     "output_type": "stream",
     "text": [
      "SUCCESS!\n"
     ]
    }
   ],
   "source": [
    "# this cell imports the required libraries for our workshop code to run\n",
    "import pandas as pd\n",
    "from sklearn.metrics.pairwise import cosine_similarity\n",
    "print(\"SUCCESS!\")"
   ]
  },
  {
   "cell_type": "markdown",
   "id": "f1d6b34d",
   "metadata": {
    "id": "f1d6b34d"
   },
   "source": [
    "## Features\n",
    "\n",
    "A **feature** is a measurable way to describe something or someone in your dataset. When working on a data science project, deciding what features are important to the model you are trying to build is a good first step. In many cases, choosing good features can be the difference between a good and a bad model!\n",
    "\n",
    "Most features fall into one of the following categories:\n",
    "\n",
    "#### **Numerical Features**\n",
    "These are things that are represented naturally as numbers. With numerical features, you can compare two different records in your data set by seeing if these numerical features are less than, greater than, or equal to each other.  Some examples are things like:\n",
    "- the number of times you've seen Taylor Swift live in concert\n",
    "- how many states you have visited\n",
    "- how many pets you own\n",
    "- how many siblings you have\n",
    "\n",
    "#### **Bin Features**\n",
    "Bin features are similar to numerical features, but they allow you to specify a certain range (or \"bin\") of values to group numerical values together. This is often used for things like:\n",
    "- age range (1-12, 13-18, 18-24, 25+)\n",
    "- your astrological sign (bins of birth date ranges)\n",
    "\n",
    "#### **One-Hot Encoded Features**\n",
    "Categorical features are features that are not naturally represented numerically and usually represent some sort of category or description. Some examples are:\n",
    "- your favorite color (\"Blue\",\"Purple\",\"Orange\")\n",
    "- your favorite sport (\"Soccer\",\"Football\",\"Hockey\")\n",
    "\n",
    "It's much easier for a model to compare the meaning of two numbers than to compare the meaning of two words. We use a technique called one-hot encoding to transform descriptive features into numerical features, so we can perform mathematic calculations using the features later on. With one-hot encoding, we represent each potential option as its own column and then represent the selection of that category with a 1 or a 0. After encoding, we would have the following features:\n",
    "- color_green, color_purple, color_orange\n",
    "- sport_soccer, sport_football, sport_hockey\n"
   ]
  },
  {
   "cell_type": "code",
   "execution_count": 23,
   "id": "32c1052a",
   "metadata": {
    "id": "32c1052a"
   },
   "outputs": [
    {
     "data": {
      "text/html": [
       "<div>\n",
       "<style scoped>\n",
       "    .dataframe tbody tr th:only-of-type {\n",
       "        vertical-align: middle;\n",
       "    }\n",
       "\n",
       "    .dataframe tbody tr th {\n",
       "        vertical-align: top;\n",
       "    }\n",
       "\n",
       "    .dataframe thead th {\n",
       "        text-align: right;\n",
       "    }\n",
       "</style>\n",
       "<table border=\"1\" class=\"dataframe\">\n",
       "  <thead>\n",
       "    <tr style=\"text-align: right;\">\n",
       "      <th></th>\n",
       "      <th>title</th>\n",
       "      <th>genre</th>\n",
       "      <th>duration_seconds</th>\n",
       "      <th>release_year</th>\n",
       "    </tr>\n",
       "  </thead>\n",
       "  <tbody>\n",
       "    <tr>\n",
       "      <th>0</th>\n",
       "      <td>Teardrops on My Guitar</td>\n",
       "      <td>Country</td>\n",
       "      <td>179</td>\n",
       "      <td>2006</td>\n",
       "    </tr>\n",
       "    <tr>\n",
       "      <th>1</th>\n",
       "      <td>Delicate</td>\n",
       "      <td>Pop</td>\n",
       "      <td>232</td>\n",
       "      <td>2017</td>\n",
       "    </tr>\n",
       "    <tr>\n",
       "      <th>2</th>\n",
       "      <td>22</td>\n",
       "      <td>Pop</td>\n",
       "      <td>230</td>\n",
       "      <td>2012</td>\n",
       "    </tr>\n",
       "  </tbody>\n",
       "</table>\n",
       "</div>"
      ],
      "text/plain": [
       "                    title    genre  duration_seconds  release_year\n",
       "0  Teardrops on My Guitar  Country               179          2006\n",
       "1                Delicate      Pop               232          2017\n",
       "2                      22      Pop               230          2012"
      ]
     },
     "execution_count": 23,
     "metadata": {},
     "output_type": "execute_result"
    }
   ],
   "source": [
    "# feature example\n",
    "values = {\n",
    "    'title': ['Teardrops on My Guitar','Delicate','22'], # categorical identifier\n",
    "    'genre': ['Country','Pop','Pop'], # categorical that we will one-hot encode\n",
    "    'duration_seconds': [179, 232, 230], # numerical \n",
    "    'release_year': [2006, 2017, 2012] # numerical\n",
    "}\n",
    "taylor_swift_data = pd.DataFrame(data=values)\n",
    "taylor_swift_data"
   ]
  },
  {
   "cell_type": "code",
   "execution_count": 24,
   "id": "e62336f6",
   "metadata": {},
   "outputs": [
    {
     "ename": "TypeError",
     "evalue": "cannot concatenate object of type '<class 'list'>'; only Series and DataFrame objs are valid",
     "output_type": "error",
     "traceback": [
      "\u001b[0;31m---------------------------------------------------------------------------\u001b[0m",
      "\u001b[0;31mTypeError\u001b[0m                                 Traceback (most recent call last)",
      "\u001b[0;32m/var/folders/q8/4kyf3wcj3x1clrvcd6_wqg_r0000gq/T/ipykernel_32570/1354730126.py\u001b[0m in \u001b[0;36m<module>\u001b[0;34m\u001b[0m\n\u001b[1;32m     13\u001b[0m ]\n\u001b[1;32m     14\u001b[0m \u001b[0;31m# then we add those new columns back to our original dataset\u001b[0m\u001b[0;34m\u001b[0m\u001b[0;34m\u001b[0m\u001b[0m\n\u001b[0;32m---> 15\u001b[0;31m \u001b[0mtaylor_swift_data\u001b[0m \u001b[0;34m=\u001b[0m \u001b[0mpd\u001b[0m\u001b[0;34m.\u001b[0m\u001b[0mconcat\u001b[0m\u001b[0;34m(\u001b[0m\u001b[0;34m[\u001b[0m\u001b[0mtaylor_swift_data\u001b[0m\u001b[0;34m,\u001b[0m \u001b[0mencoded_features\u001b[0m\u001b[0;34m]\u001b[0m\u001b[0;34m,\u001b[0m \u001b[0maxis\u001b[0m\u001b[0;34m=\u001b[0m\u001b[0;36m1\u001b[0m\u001b[0;34m)\u001b[0m\u001b[0;34m\u001b[0m\u001b[0m\n\u001b[0m\u001b[1;32m     16\u001b[0m \u001b[0mtaylor_swift_data\u001b[0m\u001b[0;34m\u001b[0m\u001b[0m\n",
      "\u001b[0;32m~/Documents/envs/helena_env/lib/python3.7/site-packages/pandas/core/reshape/concat.py\u001b[0m in \u001b[0;36mconcat\u001b[0;34m(objs, axis, join, ignore_index, keys, levels, names, verify_integrity, sort, copy)\u001b[0m\n\u001b[1;32m    282\u001b[0m         \u001b[0mverify_integrity\u001b[0m\u001b[0;34m=\u001b[0m\u001b[0mverify_integrity\u001b[0m\u001b[0;34m,\u001b[0m\u001b[0;34m\u001b[0m\u001b[0m\n\u001b[1;32m    283\u001b[0m         \u001b[0mcopy\u001b[0m\u001b[0;34m=\u001b[0m\u001b[0mcopy\u001b[0m\u001b[0;34m,\u001b[0m\u001b[0;34m\u001b[0m\u001b[0m\n\u001b[0;32m--> 284\u001b[0;31m         \u001b[0msort\u001b[0m\u001b[0;34m=\u001b[0m\u001b[0msort\u001b[0m\u001b[0;34m,\u001b[0m\u001b[0;34m\u001b[0m\u001b[0m\n\u001b[0m\u001b[1;32m    285\u001b[0m     )\n\u001b[1;32m    286\u001b[0m \u001b[0;34m\u001b[0m\u001b[0m\n",
      "\u001b[0;32m~/Documents/envs/helena_env/lib/python3.7/site-packages/pandas/core/reshape/concat.py\u001b[0m in \u001b[0;36m__init__\u001b[0;34m(self, objs, axis, join, keys, levels, names, ignore_index, verify_integrity, copy, sort)\u001b[0m\n\u001b[1;32m    357\u001b[0m                     \u001b[0;34m\"only Series and DataFrame objs are valid\"\u001b[0m\u001b[0;34m\u001b[0m\u001b[0m\n\u001b[1;32m    358\u001b[0m                 )\n\u001b[0;32m--> 359\u001b[0;31m                 \u001b[0;32mraise\u001b[0m \u001b[0mTypeError\u001b[0m\u001b[0;34m(\u001b[0m\u001b[0mmsg\u001b[0m\u001b[0;34m)\u001b[0m\u001b[0;34m\u001b[0m\u001b[0m\n\u001b[0m\u001b[1;32m    360\u001b[0m \u001b[0;34m\u001b[0m\u001b[0m\n\u001b[1;32m    361\u001b[0m             \u001b[0;31m# consolidate\u001b[0m\u001b[0;34m\u001b[0m\u001b[0;34m\u001b[0m\u001b[0m\n",
      "\u001b[0;31mTypeError\u001b[0m: cannot concatenate object of type '<class 'list'>'; only Series and DataFrame objs are valid"
     ]
    }
   ],
   "source": [
    "# we want to transform our Taylor Swift data to make it easier to analyze\n",
    "# we can bin the duration in seconds to the minute level\n",
    "# and one-hot encode the genre\n",
    "# first we create a dataset with the binned features\n",
    "# Define the bins and labels\n",
    "bins = list(range(2005, 2022, 5))\n",
    "labels = [\"{}-{}\".format(i, i+1) for i in range(2005, 2020, 5)] \n",
    "binned_year = pd.cut(taylor_swift_data['release_year'], bins=bins, labels=labels, right=False)\n",
    "# next we create a dataset with the encoded features\n",
    "encoded_features = [\n",
    "    pd.get_dummies(taylor_swift_data.genre),\n",
    "    pd.get_dummies(binned_year)\n",
    "]\n",
    "# then we add those new columns back to our original dataset\n",
    "taylor_swift_data = pd.concat([taylor_swift_data, encoded_features], axis=1)\n",
    "taylor_swift_data"
   ]
  },
  {
   "cell_type": "code",
   "execution_count": 25,
   "id": "49a90c03",
   "metadata": {},
   "outputs": [
    {
     "data": {
      "text/plain": [
       "[   Country  Pop\n",
       " 0        1    0\n",
       " 1        0    1\n",
       " 2        0    1,\n",
       "    2005-2006  2007-2008  2009-2010  2011-2012  2013-2014  2015-2016  \\\n",
       " 0          1          0          0          0          0          0   \n",
       " 1          0          0          0          0          0          0   \n",
       " 2          0          0          0          1          0          0   \n",
       " \n",
       "    2017-2018  2019-2020  \n",
       " 0          0          0  \n",
       " 1          1          0  \n",
       " 2          0          0  ]"
      ]
     },
     "execution_count": 25,
     "metadata": {},
     "output_type": "execute_result"
    }
   ],
   "source": [
    "encoded_features"
   ]
  },
  {
   "cell_type": "markdown",
   "id": "EBwIELBUkAOm",
   "metadata": {
    "id": "EBwIELBUkAOm"
   },
   "source": [
    "## ✍️ Your Turn\n",
    "What kinds of features can you use to describe yourself? What features might be important when considering who your new friends might be? Make a list of potential friendship features and how to represent them numerically.\n",
    "\n",
    "Then, as a group, we will combine everyone's features toether to make a consistent dataset of everyone in the workshop."
   ]
  },
  {
   "cell_type": "markdown",
   "id": "084bea1e",
   "metadata": {
    "id": "084bea1e"
   },
   "source": [
    "## 🏗 Building a Vector\n",
    "Now that we have our features, we need a consistent way to represent each song. This is where vectors come in! Each song can be represented as a vector, where each element in the vector is a feature.\n",
    "\n",
    "Let's use `Teardrops on my Guitar` as an example! if we build our vector for this song we get-\n",
    "\n",
    "`[179, 2006, 1, 0]`\n",
    "\n",
    "Can you guess how we built this vector?"
   ]
  },
  {
   "cell_type": "code",
   "execution_count": 15,
   "id": "92cebc5c",
   "metadata": {
    "id": "92cebc5c"
   },
   "outputs": [
    {
     "data": {
      "text/html": [
       "<div>\n",
       "<style scoped>\n",
       "    .dataframe tbody tr th:only-of-type {\n",
       "        vertical-align: middle;\n",
       "    }\n",
       "\n",
       "    .dataframe tbody tr th {\n",
       "        vertical-align: top;\n",
       "    }\n",
       "\n",
       "    .dataframe thead th {\n",
       "        text-align: right;\n",
       "    }\n",
       "</style>\n",
       "<table border=\"1\" class=\"dataframe\">\n",
       "  <thead>\n",
       "    <tr style=\"text-align: right;\">\n",
       "      <th></th>\n",
       "      <th>duration_seconds</th>\n",
       "      <th>release_year</th>\n",
       "      <th>Country</th>\n",
       "      <th>Pop</th>\n",
       "    </tr>\n",
       "    <tr>\n",
       "      <th>title</th>\n",
       "      <th></th>\n",
       "      <th></th>\n",
       "      <th></th>\n",
       "      <th></th>\n",
       "    </tr>\n",
       "  </thead>\n",
       "  <tbody>\n",
       "    <tr>\n",
       "      <th>Teardrops on My Guitar</th>\n",
       "      <td>179</td>\n",
       "      <td>2006</td>\n",
       "      <td>1</td>\n",
       "      <td>0</td>\n",
       "    </tr>\n",
       "    <tr>\n",
       "      <th>Delicate</th>\n",
       "      <td>232</td>\n",
       "      <td>2017</td>\n",
       "      <td>0</td>\n",
       "      <td>1</td>\n",
       "    </tr>\n",
       "    <tr>\n",
       "      <th>22</th>\n",
       "      <td>230</td>\n",
       "      <td>2012</td>\n",
       "      <td>0</td>\n",
       "      <td>1</td>\n",
       "    </tr>\n",
       "  </tbody>\n",
       "</table>\n",
       "</div>"
      ],
      "text/plain": [
       "                        duration_seconds  release_year  Country  Pop\n",
       "title                                                               \n",
       "Teardrops on My Guitar               179          2006        1    0\n",
       "Delicate                             232          2017        0    1\n",
       "22                                   230          2012        0    1"
      ]
     },
     "execution_count": 15,
     "metadata": {},
     "output_type": "execute_result"
    }
   ],
   "source": [
    "# turn each taylor swift row of features into a vector\n",
    "taylor_swift_vectors = (taylor_swift_data.set_index('title')[\n",
    "        ['duration_seconds', 'release_year', 'Country', 'Pop']\n",
    "])\n",
    "taylor_swift_vectors"
   ]
  },
  {
   "cell_type": "markdown",
   "id": "4422675b",
   "metadata": {
    "id": "4422675b"
   },
   "source": [
    "## ⚖️ Measuring Similarity\n",
    "Alright, with our vectors ready, let's dive deeper to see how similar they really are. By using cosine similarity, we'll get scores ranging from -1 to 1. If we get a score of 1, it means they're nearly identical. A -1? They're polar opposites.\n",
    "\n",
    "Now, let's apply this to our Taylor Swift songs. Which songs do you think are strikingly similar, and which ones march to their own beat? 🎵🤔"
   ]
  },
  {
   "cell_type": "code",
   "execution_count": 21,
   "id": "193b36c2",
   "metadata": {
    "id": "193b36c2"
   },
   "outputs": [
    {
     "data": {
      "text/html": [
       "<div>\n",
       "<style scoped>\n",
       "    .dataframe tbody tr th:only-of-type {\n",
       "        vertical-align: middle;\n",
       "    }\n",
       "\n",
       "    .dataframe tbody tr th {\n",
       "        vertical-align: top;\n",
       "    }\n",
       "\n",
       "    .dataframe thead th {\n",
       "        text-align: right;\n",
       "    }\n",
       "</style>\n",
       "<table border=\"1\" class=\"dataframe\">\n",
       "  <thead>\n",
       "    <tr style=\"text-align: right;\">\n",
       "      <th></th>\n",
       "      <th>Teardrops on My Guitar</th>\n",
       "      <th>Delicate</th>\n",
       "      <th>22</th>\n",
       "    </tr>\n",
       "  </thead>\n",
       "  <tbody>\n",
       "    <tr>\n",
       "      <th>Teardrops on My Guitar</th>\n",
       "      <td>1.000000</td>\n",
       "      <td>0.999674</td>\n",
       "      <td>0.999692</td>\n",
       "    </tr>\n",
       "    <tr>\n",
       "      <th>Delicate</th>\n",
       "      <td>0.999674</td>\n",
       "      <td>1.000000</td>\n",
       "      <td>1.000000</td>\n",
       "    </tr>\n",
       "    <tr>\n",
       "      <th>22</th>\n",
       "      <td>0.999692</td>\n",
       "      <td>1.000000</td>\n",
       "      <td>1.000000</td>\n",
       "    </tr>\n",
       "  </tbody>\n",
       "</table>\n",
       "</div>"
      ],
      "text/plain": [
       "                        Teardrops on My Guitar  Delicate        22\n",
       "Teardrops on My Guitar                1.000000  0.999674  0.999692\n",
       "Delicate                              0.999674  1.000000  1.000000\n",
       "22                                    0.999692  1.000000  1.000000"
      ]
     },
     "execution_count": 21,
     "metadata": {},
     "output_type": "execute_result"
    }
   ],
   "source": [
    "# Calculate the cosine similarity\n",
    "cosine_sim = cosine_similarity(taylor_swift_vectors)\n",
    "\n",
    "# Transform the results into a DataFrame for better visualization\n",
    "cosine_sim_df = pd.DataFrame(\n",
    "    cosine_sim, \n",
    "    index=taylor_swift_vectors.index, \n",
    "    columns=taylor_swift_vectors.index\n",
    ")\n",
    "cosine_sim_df.columns.name = None\n",
    "cosine_sim_df"
   ]
  },
  {
   "cell_type": "markdown",
   "id": "ca70daa2",
   "metadata": {
    "id": "ca70daa2"
   },
   "source": [
    "## 🎉 Results \n",
    "Alright, the moment we've been waiting for! 🌟 Let's dive in and discover our friendship matches using the magic of data science! By crunching our features and sprinkling in some cosine similarity, we'll reveal our top friendship contenders. When you spot the names at the top of your list, have a think – what awesome things do you think you have in common? Ready to meet your data bestie? Let's roll! 🎈👩‍🔬👩‍💻👭"
   ]
  },
  {
   "cell_type": "code",
   "execution_count": 14,
   "id": "a94c5eed",
   "metadata": {
    "id": "a94c5eed"
   },
   "outputs": [
    {
     "ename": "SyntaxError",
     "evalue": "unexpected EOF while parsing (3828620722.py, line 2)",
     "output_type": "error",
     "traceback": [
      "\u001b[0;36m  File \u001b[0;32m\"/var/folders/q8/4kyf3wcj3x1clrvcd6_wqg_r0000gq/T/ipykernel_32570/3828620722.py\"\u001b[0;36m, line \u001b[0;32m2\u001b[0m\n\u001b[0;31m    def process_features(df: pd.DataFrame):\u001b[0m\n\u001b[0m                                           ^\u001b[0m\n\u001b[0;31mSyntaxError\u001b[0m\u001b[0;31m:\u001b[0m unexpected EOF while parsing\n"
     ]
    }
   ],
   "source": [
    "# ranking / sorting / formatting friends code\n",
    "def process_features(df: pd.DataFrame):\n",
    "    "
   ]
  },
  {
   "cell_type": "code",
   "execution_count": null,
   "id": "ae142f02",
   "metadata": {},
   "outputs": [],
   "source": []
  }
 ],
 "metadata": {
  "colab": {
   "provenance": []
  },
  "kernelspec": {
   "display_name": "Python 3 (ipykernel)",
   "language": "python",
   "name": "python3"
  },
  "language_info": {
   "codemirror_mode": {
    "name": "ipython",
    "version": 3
   },
   "file_extension": ".py",
   "mimetype": "text/x-python",
   "name": "python",
   "nbconvert_exporter": "python",
   "pygments_lexer": "ipython3",
   "version": "3.7.16"
  }
 },
 "nbformat": 4,
 "nbformat_minor": 5
}
