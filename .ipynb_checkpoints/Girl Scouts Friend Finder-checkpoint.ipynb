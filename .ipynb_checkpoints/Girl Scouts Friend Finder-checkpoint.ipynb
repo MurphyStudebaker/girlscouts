{
 "cells": [
  {
   "cell_type": "markdown",
   "id": "b24355bf",
   "metadata": {},
   "source": [
    "# Friend Finder\n",
    "This notebook is designed for the Girl Scouts STEM Data Science Workshop to introduce 6th-12th graders to feature selection, cosine similarity, and data science in general. \n",
    "\n",
    "### Instructors\n",
    "- Jason Osajima\n",
    "- Murphy Studebaker\n",
    "\n",
    "(idk if we want to say anything about us here)\n",
    "\n",
    "## Introduction\n",
    "TODO\n",
    "\n",
    "### Software Tools\n",
    "- Python\n",
    "- CoLab"
   ]
  },
  {
   "cell_type": "code",
   "execution_count": null,
   "id": "e94ba269",
   "metadata": {},
   "outputs": [],
   "source": [
    "# imports"
   ]
  },
  {
   "cell_type": "markdown",
   "id": "f1d6b34d",
   "metadata": {},
   "source": [
    "## Features\n",
    "\n",
    "### Numerical Features\n",
    "\n",
    "### Bin Features\n",
    "\n",
    "### One-Hot Encoded Categorial Features"
   ]
  },
  {
   "cell_type": "code",
   "execution_count": null,
   "id": "32c1052a",
   "metadata": {},
   "outputs": [],
   "source": [
    "# feature example"
   ]
  },
  {
   "cell_type": "markdown",
   "id": "084bea1e",
   "metadata": {},
   "source": [
    "## Building a Vector"
   ]
  },
  {
   "cell_type": "code",
   "execution_count": null,
   "id": "92cebc5c",
   "metadata": {},
   "outputs": [],
   "source": [
    "# vector example"
   ]
  },
  {
   "cell_type": "markdown",
   "id": "4422675b",
   "metadata": {},
   "source": [
    "## Measuring Similarity"
   ]
  },
  {
   "cell_type": "code",
   "execution_count": null,
   "id": "193b36c2",
   "metadata": {},
   "outputs": [],
   "source": [
    "# cosine similarity code"
   ]
  },
  {
   "cell_type": "markdown",
   "id": "ca70daa2",
   "metadata": {},
   "source": [
    "## Results"
   ]
  },
  {
   "cell_type": "code",
   "execution_count": null,
   "id": "a94c5eed",
   "metadata": {},
   "outputs": [],
   "source": [
    "# ranking / sorting / formatting friends code"
   ]
  }
 ],
 "metadata": {
  "kernelspec": {
   "display_name": "Python 3 (ipykernel)",
   "language": "python",
   "name": "python3"
  },
  "language_info": {
   "codemirror_mode": {
    "name": "ipython",
    "version": 3
   },
   "file_extension": ".py",
   "mimetype": "text/x-python",
   "name": "python",
   "nbconvert_exporter": "python",
   "pygments_lexer": "ipython3",
   "version": "3.7.16"
  }
 },
 "nbformat": 4,
 "nbformat_minor": 5
}
