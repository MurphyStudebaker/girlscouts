{
 "cells": [
  {
   "cell_type": "markdown",
   "id": "b24355bf",
   "metadata": {
    "id": "b24355bf"
   },
   "source": [
    "# 🔎 Friend Finder\n",
    "This notebook is designed for the Girl Scouts STEM Data Science Workshop to introduce 6th-12th graders to feature selection, cosine similarity, and data science in general.\n",
    "\n",
    "### Instructors\n",
    "- Jason Osajima\n",
    "- Murphy Studebaker\n",
    "\n",
    "(idk if we want to say anything about us here)\n",
    "\n",
    "## Introduction\n",
    "The following notebook will walk you through the process of creating your first data science model that we will use to find new friends based on their similarity to you and your interests, using data science techniques that are commonly used for recommendations in apps like Netflix and Spotify. \n",
    "\n",
    "You will not have to write any of your own code. You can run each code cell by hitting the play button in the left corner or by hitting the keys `Shift + Return`.\n",
    "\n",
    "### Software Tools\n",
    "- **Python** is a programming language known for being easy to learn and good at many different programming tasks, especially data science. The code examples in this notebook are all written in Python. **Pandas** is a library we use with Python to easily work with data.\n",
    "- **CoLab** is Google's online editor for writing coding notebooks like the one you're currently using. You can save this notebook to your own account, so you can make edits or take notes and save your changes. Eventually you can make a new notebook with your own data science models!\n",
    "\n",
    "\n",
    "## ✍️ Your Turn\n",
    "\n",
    "Run the following code block to set up your notebook with everything we need for the workshop. You should see \"SUCCESS\" printed out."
   ]
  },
  {
   "cell_type": "code",
   "execution_count": 2,
   "id": "e94ba269",
   "metadata": {
    "id": "e94ba269"
   },
   "outputs": [
    {
     "name": "stdout",
     "output_type": "stream",
     "text": [
      "SUCCESS!\n"
     ]
    }
   ],
   "source": [
    "# this cell imports the required libraries for our workshop code to run\n",
    "import pandas as pd\n",
    "print(\"SUCCESS!\")"
   ]
  },
  {
   "cell_type": "markdown",
   "id": "f1d6b34d",
   "metadata": {
    "id": "f1d6b34d"
   },
   "source": [
    "## Features\n",
    "\n",
    "A **feature** is a measurable way to describe something or someone in your dataset. When working on a data science project, deciding what features are important to the model you are trying to build is a good first step. In many cases, choosing good features can be the difference between a good and a bad model!\n",
    "\n",
    "Most features fall into one of the following categories:\n",
    "\n",
    "#### **Numerical Features**\n",
    "These are things that are represented naturally as numbers. With numerical features, you can compare two different records in your data set by seeing if these numerical features are less than, greater than, or equal to each other.  Some examples are things like:\n",
    "- the number of times you've seen Taylor Swift live in concert\n",
    "- how many states you have visited\n",
    "- how many pets you own\n",
    "- how many siblings you have\n",
    "\n",
    "#### **Bin Features**\n",
    "Bin features are similar to numerical features, but they allow you to specify a certain range (or \"bin\") of values to group numerical values together. This is often used for things like:\n",
    "- age range (1-12, 13-18, 18-24, 25+)\n",
    "- your astrological sign (bins of birth date ranges)\n",
    "\n",
    "#### **One-Hot Encoded Features**\n",
    "Categorical features are features that are not naturally represented numerically and usually represent some sort of category or description. Some examples are:\n",
    "- your favorite color (\"Blue\",\"Purple\",\"Orange\")\n",
    "- your favorite sport (\"Soccer\",\"Football\",\"Hockey\")\n",
    "\n",
    "It's much easier for a model to compare the meaning of two numbers than to compare the meaning of two words. We use a technique called one-hot encoding to transform descriptive features into numerical features, so we can perform mathematic calculations using the features later on. With one-hot encoding, we represent each potential option as its own column and then represent the selection of that category with a 1 or a 0. After encoding, we would have the following features:\n",
    "- color_green, color_purple, color_orange\n",
    "- sport_soccer, sport_football, sport_hockey\n"
   ]
  },
  {
   "cell_type": "code",
   "execution_count": 3,
   "id": "32c1052a",
   "metadata": {
    "id": "32c1052a"
   },
   "outputs": [
    {
     "data": {
      "text/html": [
       "<div>\n",
       "<style scoped>\n",
       "    .dataframe tbody tr th:only-of-type {\n",
       "        vertical-align: middle;\n",
       "    }\n",
       "\n",
       "    .dataframe tbody tr th {\n",
       "        vertical-align: top;\n",
       "    }\n",
       "\n",
       "    .dataframe thead th {\n",
       "        text-align: right;\n",
       "    }\n",
       "</style>\n",
       "<table border=\"1\" class=\"dataframe\">\n",
       "  <thead>\n",
       "    <tr style=\"text-align: right;\">\n",
       "      <th></th>\n",
       "      <th>title</th>\n",
       "      <th>genre</th>\n",
       "      <th>duration_seconds</th>\n",
       "      <th>release_year</th>\n",
       "    </tr>\n",
       "  </thead>\n",
       "  <tbody>\n",
       "    <tr>\n",
       "      <th>0</th>\n",
       "      <td>Teardrops on My Guitar</td>\n",
       "      <td>Country</td>\n",
       "      <td>179</td>\n",
       "      <td>2006</td>\n",
       "    </tr>\n",
       "    <tr>\n",
       "      <th>1</th>\n",
       "      <td>Delicate</td>\n",
       "      <td>Pop</td>\n",
       "      <td>232</td>\n",
       "      <td>2017</td>\n",
       "    </tr>\n",
       "    <tr>\n",
       "      <th>2</th>\n",
       "      <td>22</td>\n",
       "      <td>Pop</td>\n",
       "      <td>230</td>\n",
       "      <td>2012</td>\n",
       "    </tr>\n",
       "  </tbody>\n",
       "</table>\n",
       "</div>"
      ],
      "text/plain": [
       "                    title    genre  duration_seconds  release_year\n",
       "0  Teardrops on My Guitar  Country               179          2006\n",
       "1                Delicate      Pop               232          2017\n",
       "2                      22      Pop               230          2012"
      ]
     },
     "execution_count": 3,
     "metadata": {},
     "output_type": "execute_result"
    }
   ],
   "source": [
    "# feature example\n",
    "values = {\n",
    "    'title': ['Teardrops on My Guitar','Delicate','22'], # categorical identifier\n",
    "    'genre': ['Country','Pop','Pop'], # categorical that we will one-hot encode\n",
    "    'duration_seconds': [179, 232, 230], # numerical \n",
    "    'release_year': [2006, 2017, 2012] # numerical\n",
    "}\n",
    "taylor_swift_data = pd.DataFrame(data=values)\n",
    "taylor_swift_data"
   ]
  },
  {
   "cell_type": "code",
   "execution_count": 6,
   "id": "e62336f6",
   "metadata": {},
   "outputs": [
    {
     "data": {
      "text/html": [
       "<div>\n",
       "<style scoped>\n",
       "    .dataframe tbody tr th:only-of-type {\n",
       "        vertical-align: middle;\n",
       "    }\n",
       "\n",
       "    .dataframe tbody tr th {\n",
       "        vertical-align: top;\n",
       "    }\n",
       "\n",
       "    .dataframe thead th {\n",
       "        text-align: right;\n",
       "    }\n",
       "</style>\n",
       "<table border=\"1\" class=\"dataframe\">\n",
       "  <thead>\n",
       "    <tr style=\"text-align: right;\">\n",
       "      <th></th>\n",
       "      <th>title</th>\n",
       "      <th>genre</th>\n",
       "      <th>duration_seconds</th>\n",
       "      <th>release_year</th>\n",
       "      <th>Country</th>\n",
       "      <th>Pop</th>\n",
       "    </tr>\n",
       "  </thead>\n",
       "  <tbody>\n",
       "    <tr>\n",
       "      <th>0</th>\n",
       "      <td>Teardrops on My Guitar</td>\n",
       "      <td>Country</td>\n",
       "      <td>179</td>\n",
       "      <td>2006</td>\n",
       "      <td>1</td>\n",
       "      <td>0</td>\n",
       "    </tr>\n",
       "    <tr>\n",
       "      <th>1</th>\n",
       "      <td>Delicate</td>\n",
       "      <td>Pop</td>\n",
       "      <td>232</td>\n",
       "      <td>2017</td>\n",
       "      <td>0</td>\n",
       "      <td>1</td>\n",
       "    </tr>\n",
       "    <tr>\n",
       "      <th>2</th>\n",
       "      <td>22</td>\n",
       "      <td>Pop</td>\n",
       "      <td>230</td>\n",
       "      <td>2012</td>\n",
       "      <td>0</td>\n",
       "      <td>1</td>\n",
       "    </tr>\n",
       "  </tbody>\n",
       "</table>\n",
       "</div>"
      ],
      "text/plain": [
       "                    title    genre  duration_seconds  release_year  Country  \\\n",
       "0  Teardrops on My Guitar  Country               179          2006        1   \n",
       "1                Delicate      Pop               232          2017        0   \n",
       "2                      22      Pop               230          2012        0   \n",
       "\n",
       "   Pop  \n",
       "0    0  \n",
       "1    1  \n",
       "2    1  "
      ]
     },
     "execution_count": 6,
     "metadata": {},
     "output_type": "execute_result"
    }
   ],
   "source": [
    "# we want to transform our Taylor Swift data to make it easier to analyze\n",
    "# we can bin the duration in seconds to the minute level\n",
    "# and one-hot encode the genre\n",
    "# first we create a dataset with the encoded features\n",
    "encoded_genre = pd.get_dummies(taylor_swift_data.genre)\n",
    "# then we add those new columns back to our original dataset\n",
    "taylor_swift_data = pd.concat([taylor_swift_data, encoded_genre], axis=1)\n",
    "taylor_swift_data"
   ]
  },
  {
   "cell_type": "markdown",
   "id": "EBwIELBUkAOm",
   "metadata": {
    "id": "EBwIELBUkAOm"
   },
   "source": [
    "## ✍️ Your Turn\n",
    "What kinds of features can you use to describe yourself? What features might be important when considering who your new friends might be? Make a list of potential friendship features and how to represent them numerically.\n",
    "\n",
    "Then, as a group, we will combine everyone's features toether to make a consistent dataset of everyone in the workshop."
   ]
  },
  {
   "cell_type": "markdown",
   "id": "084bea1e",
   "metadata": {
    "id": "084bea1e"
   },
   "source": [
    "## Building a Vector"
   ]
  },
  {
   "cell_type": "code",
   "execution_count": null,
   "id": "92cebc5c",
   "metadata": {
    "id": "92cebc5c"
   },
   "outputs": [],
   "source": [
    "# vector example"
   ]
  },
  {
   "cell_type": "markdown",
   "id": "4422675b",
   "metadata": {
    "id": "4422675b"
   },
   "source": [
    "## Measuring Similarity"
   ]
  },
  {
   "cell_type": "code",
   "execution_count": null,
   "id": "193b36c2",
   "metadata": {
    "id": "193b36c2"
   },
   "outputs": [],
   "source": [
    "# cosine similarity code"
   ]
  },
  {
   "cell_type": "markdown",
   "id": "ca70daa2",
   "metadata": {
    "id": "ca70daa2"
   },
   "source": [
    "## Results"
   ]
  },
  {
   "cell_type": "code",
   "execution_count": null,
   "id": "a94c5eed",
   "metadata": {
    "id": "a94c5eed"
   },
   "outputs": [],
   "source": [
    "# ranking / sorting / formatting friends code"
   ]
  }
 ],
 "metadata": {
  "colab": {
   "provenance": []
  },
  "kernelspec": {
   "display_name": "Python 3 (ipykernel)",
   "language": "python",
   "name": "python3"
  },
  "language_info": {
   "codemirror_mode": {
    "name": "ipython",
    "version": 3
   },
   "file_extension": ".py",
   "mimetype": "text/x-python",
   "name": "python",
   "nbconvert_exporter": "python",
   "pygments_lexer": "ipython3",
   "version": "3.7.16"
  }
 },
 "nbformat": 4,
 "nbformat_minor": 5
}
